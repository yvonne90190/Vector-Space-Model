{
 "cells": [
  {
   "cell_type": "code",
   "execution_count": 1,
   "id": "072164ad",
   "metadata": {
    "_cell_guid": "b1076dfc-b9ad-4769-8c92-a6c4dae69d19",
    "_uuid": "8f2839f25d086af736a60e9eeb907d3b93b6e0e5",
    "execution": {
     "iopub.execute_input": "2022-12-26T10:29:44.737772Z",
     "iopub.status.busy": "2022-12-26T10:29:44.737149Z",
     "iopub.status.idle": "2022-12-26T10:30:14.647763Z",
     "shell.execute_reply": "2022-12-26T10:30:14.646564Z"
    },
    "papermill": {
     "duration": 29.919783,
     "end_time": "2022-12-26T10:30:14.650753",
     "exception": false,
     "start_time": "2022-12-26T10:29:44.730970",
     "status": "completed"
    },
    "tags": []
   },
   "outputs": [
    {
     "name": "stdout",
     "output_type": "stream",
     "text": [
      "Collecting polars\r\n",
      "  Downloading polars-0.15.8-cp37-abi3-manylinux_2_17_x86_64.manylinux2014_x86_64.whl (14.6 MB)\r\n",
      "\u001b[2K     \u001b[90m━━━━━━━━━━━━━━━━━━━━━━━━━━━━━━━━━━━━━━━━\u001b[0m \u001b[32m14.6/14.6 MB\u001b[0m \u001b[31m32.2 MB/s\u001b[0m eta \u001b[36m0:00:00\u001b[0m\r\n",
      "\u001b[?25hRequirement already satisfied: typing_extensions>=4.0.0 in /opt/conda/lib/python3.7/site-packages (from polars) (4.4.0)\r\n",
      "Installing collected packages: polars\r\n",
      "Successfully installed polars-0.15.8\r\n",
      "\u001b[33mWARNING: Running pip as the 'root' user can result in broken permissions and conflicting behaviour with the system package manager. It is recommended to use a virtual environment instead: https://pip.pypa.io/warnings/venv\u001b[0m\u001b[33m\r\n",
      "\u001b[0m"
     ]
    }
   ],
   "source": [
    "!pip install polars\n",
    "\n",
    "import polars as pl\n",
    "from gensim.test.utils import common_texts\n",
    "from gensim.models import Word2Vec\n",
    "\n",
    "train = pl.read_parquet('../input/otto-full-optimized-memory-footprint/train.parquet')\n",
    "test = pl.read_parquet('../input/otto-full-optimized-memory-footprint/test.parquet')"
   ]
  },
  {
   "cell_type": "code",
   "execution_count": 2,
   "id": "5df699ba",
   "metadata": {
    "execution": {
     "iopub.execute_input": "2022-12-26T10:30:14.660975Z",
     "iopub.status.busy": "2022-12-26T10:30:14.660573Z",
     "iopub.status.idle": "2022-12-26T10:30:27.147765Z",
     "shell.execute_reply": "2022-12-26T10:30:27.146462Z"
    },
    "papermill": {
     "duration": 12.495921,
     "end_time": "2022-12-26T10:30:27.151062",
     "exception": false,
     "start_time": "2022-12-26T10:30:14.655141",
     "status": "completed"
    },
    "tags": []
   },
   "outputs": [],
   "source": [
    "sentences_df = pl.concat([train, test]).groupby('session').agg(\n",
    "    pl.col('aid').alias('sentence')\n",
    ")"
   ]
  },
  {
   "cell_type": "code",
   "execution_count": 3,
   "id": "b8a5de62",
   "metadata": {
    "execution": {
     "iopub.execute_input": "2022-12-26T10:30:27.165465Z",
     "iopub.status.busy": "2022-12-26T10:30:27.165045Z",
     "iopub.status.idle": "2022-12-26T10:31:06.542942Z",
     "shell.execute_reply": "2022-12-26T10:31:06.541624Z"
    },
    "papermill": {
     "duration": 39.390339,
     "end_time": "2022-12-26T10:31:06.547752",
     "exception": false,
     "start_time": "2022-12-26T10:30:27.157413",
     "status": "completed"
    },
    "tags": []
   },
   "outputs": [],
   "source": [
    "sentences = sentences_df['sentence'].to_list()"
   ]
  },
  {
   "cell_type": "code",
   "execution_count": 4,
   "id": "80f6df15",
   "metadata": {
    "execution": {
     "iopub.execute_input": "2022-12-26T10:31:06.558389Z",
     "iopub.status.busy": "2022-12-26T10:31:06.557945Z",
     "iopub.status.idle": "2022-12-26T11:00:30.745473Z",
     "shell.execute_reply": "2022-12-26T11:00:30.744299Z"
    },
    "papermill": {
     "duration": 1764.198986,
     "end_time": "2022-12-26T11:00:30.751057",
     "exception": false,
     "start_time": "2022-12-26T10:31:06.552071",
     "status": "completed"
    },
    "tags": []
   },
   "outputs": [
    {
     "name": "stdout",
     "output_type": "stream",
     "text": [
      "CPU times: user 1h 28min 59s, sys: 21 s, total: 1h 29min 20s\n",
      "Wall time: 29min 24s\n"
     ]
    }
   ],
   "source": [
    "%%time\n",
    "\n",
    "w2vec = Word2Vec(sentences=sentences, vector_size=32, min_count=1, workers=4)"
   ]
  },
  {
   "cell_type": "code",
   "execution_count": 5,
   "id": "0a8c1a93",
   "metadata": {
    "execution": {
     "iopub.execute_input": "2022-12-26T11:00:30.761032Z",
     "iopub.status.busy": "2022-12-26T11:00:30.760599Z",
     "iopub.status.idle": "2022-12-26T11:00:52.389798Z",
     "shell.execute_reply": "2022-12-26T11:00:52.388868Z"
    },
    "papermill": {
     "duration": 21.637758,
     "end_time": "2022-12-26T11:00:52.392799",
     "exception": false,
     "start_time": "2022-12-26T11:00:30.755041",
     "status": "completed"
    },
    "tags": []
   },
   "outputs": [
    {
     "name": "stdout",
     "output_type": "stream",
     "text": [
      "CPU times: user 52.3 s, sys: 991 ms, total: 53.3 s\n",
      "Wall time: 21.6 s\n"
     ]
    },
    {
     "data": {
      "text/plain": [
       "True"
      ]
     },
     "execution_count": 5,
     "metadata": {},
     "output_type": "execute_result"
    }
   ],
   "source": [
    "%%time\n",
    "\n",
    "from annoy import AnnoyIndex\n",
    "\n",
    "aid2idx = {aid: i for i, aid in enumerate(w2vec.wv.index_to_key)}\n",
    "index = AnnoyIndex(32, 'euclidean')\n",
    "\n",
    "for aid, idx in aid2idx.items():\n",
    "    index.add_item(idx, w2vec.wv.vectors[idx])\n",
    "    \n",
    "index.build(10)"
   ]
  },
  {
   "cell_type": "code",
   "execution_count": 6,
   "id": "31c2191b",
   "metadata": {
    "execution": {
     "iopub.execute_input": "2022-12-26T11:00:52.404175Z",
     "iopub.status.busy": "2022-12-26T11:00:52.402929Z",
     "iopub.status.idle": "2022-12-26T11:04:23.521168Z",
     "shell.execute_reply": "2022-12-26T11:04:23.519675Z"
    },
    "papermill": {
     "duration": 211.12704,
     "end_time": "2022-12-26T11:04:23.524185",
     "exception": false,
     "start_time": "2022-12-26T11:00:52.397145",
     "status": "completed"
    },
    "tags": []
   },
   "outputs": [],
   "source": [
    "import pandas as pd\n",
    "import numpy as np\n",
    "\n",
    "from collections import defaultdict\n",
    "\n",
    "sample_sub = pd.read_csv('../input/otto-recommender-system//sample_submission.csv')\n",
    "\n",
    "session_types = ['clicks', 'carts', 'orders']\n",
    "test_session_AIDs = test.to_pandas().reset_index(drop=True).groupby('session')['aid'].apply(list)\n",
    "test_session_types = test.to_pandas().reset_index(drop=True).groupby('session')['type'].apply(list)\n",
    "\n",
    "labels = []\n",
    "\n",
    "type_weight_multipliers = {0: 1, 1: 6, 2: 3}\n",
    "for AIDs, types in zip(test_session_AIDs, test_session_types):\n",
    "    if len(AIDs) >= 20:\n",
    "        # if we have enough aids (over equals 20) we don't need to look for candidates! we just use the old logic\n",
    "        weights=np.logspace(0.1,1,len(AIDs),base=2, endpoint=True)-1\n",
    "        aids_temp=defaultdict(lambda: 0)\n",
    "        for aid,w,t in zip(AIDs,weights,types): \n",
    "            aids_temp[aid]+= w * type_weight_multipliers[t]\n",
    "            \n",
    "        sorted_aids=[k for k, v in sorted(aids_temp.items(), key=lambda item: -item[1])]\n",
    "        labels.append(sorted_aids[:20])\n",
    "    else:\n",
    "        # here we don't have 20 aids to output -- we will use word2vec embeddings to generate candidates!\n",
    "        AIDs = list(dict.fromkeys(AIDs[::-1]))\n",
    "        \n",
    "        # let's grab the most recent aid\n",
    "        most_recent_aid = AIDs[0]\n",
    "        \n",
    "        # and look for some neighbors!\n",
    "        nns = [w2vec.wv.index_to_key[i] for i in index.get_nns_by_item(aid2idx[most_recent_aid], 21)[1:]]\n",
    "                        \n",
    "        labels.append((AIDs+nns)[:20])"
   ]
  },
  {
   "cell_type": "code",
   "execution_count": 7,
   "id": "e8c256ed",
   "metadata": {
    "execution": {
     "iopub.execute_input": "2022-12-26T11:04:23.534429Z",
     "iopub.status.busy": "2022-12-26T11:04:23.534004Z",
     "iopub.status.idle": "2022-12-26T11:05:03.258773Z",
     "shell.execute_reply": "2022-12-26T11:05:03.257688Z"
    },
    "papermill": {
     "duration": 39.732918,
     "end_time": "2022-12-26T11:05:03.261564",
     "exception": false,
     "start_time": "2022-12-26T11:04:23.528646",
     "status": "completed"
    },
    "tags": []
   },
   "outputs": [],
   "source": [
    "labels_as_strings = [' '.join([str(l) for l in lls]) for lls in labels]\n",
    "\n",
    "predictions = pd.DataFrame(data={'session_type': test_session_AIDs.index, 'labels': labels_as_strings})\n",
    "\n",
    "prediction_dfs = []\n",
    "\n",
    "for st in session_types:\n",
    "    modified_predictions = predictions.copy()\n",
    "    modified_predictions.session_type = modified_predictions.session_type.astype('str') + f'_{st}'\n",
    "    prediction_dfs.append(modified_predictions)\n",
    "\n",
    "submission = pd.concat(prediction_dfs).reset_index(drop=True)\n",
    "submission.to_csv('submission.csv', index=False)"
   ]
  }
 ],
 "metadata": {
  "kernelspec": {
   "display_name": "Python 3",
   "language": "python",
   "name": "python3"
  },
  "language_info": {
   "codemirror_mode": {
    "name": "ipython",
    "version": 3
   },
   "file_extension": ".py",
   "mimetype": "text/x-python",
   "name": "python",
   "nbconvert_exporter": "python",
   "pygments_lexer": "ipython3",
   "version": "3.7.12"
  },
  "papermill": {
   "default_parameters": {},
   "duration": 2131.185338,
   "end_time": "2022-12-26T11:05:07.198510",
   "environment_variables": {},
   "exception": null,
   "input_path": "__notebook__.ipynb",
   "output_path": "__notebook__.ipynb",
   "parameters": {},
   "start_time": "2022-12-26T10:29:36.013172",
   "version": "2.3.4"
  }
 },
 "nbformat": 4,
 "nbformat_minor": 5
}
